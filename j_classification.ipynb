{
 "cells": [
  {
   "cell_type": "code",
   "execution_count": 1,
   "metadata": {},
   "outputs": [],
   "source": [
    "import pandas as pd\n",
    "import numpy as np\n",
    "import json\n",
    "import string\n",
    "import matplotlib.pyplot as plt\n",
    "%matplotlib inline\n",
    "from nltk.corpus import stopwords\n",
    "\n",
    "from tensorflow.python.keras.preprocessing import sequence\n",
    "from tensorflow.python.keras.preprocessing import text\n",
    "\n",
    "from sklearn.model_selection import train_test_split\n",
    "from sklearn.pipeline import Pipeline\n",
    "from sklearn.feature_extraction.text import CountVectorizer\n",
    "from sklearn.feature_extraction.text import TfidfTransformer\n",
    "from sklearn.naive_bayes import MultinomialNB\n",
    "from sklearn.metrics import classification_report"
   ]
  },
  {
   "cell_type": "code",
   "execution_count": 2,
   "metadata": {},
   "outputs": [],
   "source": [
    "with open('jokes/joke-dataset/stupidstuff.json') as json_data:\n",
    "    ss_df = pd.DataFrame(json.load(json_data,))\n",
    "\n",
    "with open('jokes/joke-dataset/reddit_jokes.json') as json_data:\n",
    "    reddit_df = pd.DataFrame(json.load(json_data,))\n",
    "\n",
    "with open('jokes/joke-dataset/wocka.json') as json_data:\n",
    "    wocka_df = pd.DataFrame(json.load(json_data,))\n",
    "\n",
    "pd.set_option('display.max_colwidth', -1)\n",
    "    \n",
    "ss_df.drop(['category', 'id'], axis=1, inplace=True)\n",
    "ss_df.rename(index=str, columns={'body': 'joke', 'rating': 'score'}, inplace=True)\n",
    "\n",
    "reddit_df['joke'] = reddit_df['title'] + \" \" + reddit_df['body']\n",
    "reddit_df.drop(['body', 'id', 'title'], axis=1, inplace=True)\n",
    "\n",
    "wocka_df.drop(['category', 'id', 'title'], axis=1, inplace=True)\n",
    "wocka_df.rename(index=str, columns={'body': 'joke'}, inplace=True)"
   ]
  },
  {
   "cell_type": "code",
   "execution_count": 3,
   "metadata": {},
   "outputs": [
    {
     "name": "stderr",
     "output_type": "stream",
     "text": [
      "/home/dl-one/anaconda3/envs/py36/lib/python3.6/site-packages/ipykernel_launcher.py:7: FutureWarning: Sorting because non-concatenation axis is not aligned. A future version\n",
      "of pandas will change to not sort by default.\n",
      "\n",
      "To accept the future behavior, pass 'sort=False'.\n",
      "\n",
      "To retain the current behavior and silence the warning, pass 'sort=True'.\n",
      "\n",
      "  import sys\n"
     ]
    }
   ],
   "source": [
    "reddit_df.loc[reddit_df['score'] == 0, ['score']] = 1\n",
    "reddit_df.loc[(reddit_df['score'] > 0) & (reddit_df['score'] < 3), ['score']] = 2\n",
    "reddit_df.loc[(reddit_df['score'] >= 3) & (reddit_df['score'] < 16), ['score']] = 3\n",
    "reddit_df.loc[(reddit_df['score'] >= 16) & (reddit_df['score'] < 50), ['score']] = 4\n",
    "reddit_df.loc[(reddit_df['score'] >= 50) & (reddit_df['score'] < 50000), ['score']] = 5\n",
    "\n",
    "df = pd.concat([ss_df, reddit_df])\n",
    "df.round({'score': 0})\n",
    "df['score'] =  df['score'].apply(np.int64)\n",
    "df = df.sample(frac=1).reset_index(drop=True)\n",
    "#df['joke'].str.lower()"
   ]
  },
  {
   "cell_type": "code",
   "execution_count": 4,
   "metadata": {},
   "outputs": [
    {
     "name": "stdout",
     "output_type": "stream",
     "text": [
      "median words:  18.0\n",
      "average words:  47.74331151740064\n"
     ]
    }
   ],
   "source": [
    "num_words = [len(row['joke'].split()) for _, row in df.iterrows()]\n",
    "print(\"median words: \", np.median(num_words))\n",
    "print(\"average words: \", np.average(num_words))"
   ]
  },
  {
   "cell_type": "code",
   "execution_count": 5,
   "metadata": {},
   "outputs": [],
   "source": [
    "def process_text(text):\n",
    "    \n",
    "    #remove punctuation\n",
    "    nopunc = [char for char in text if char not in string.punctuation]\n",
    "    nopunc = ''.join(nopunc)\n",
    "    \n",
    "    #take out stopwords; clean up each text message\n",
    "    clean_words = [word for word in nopunc.split() if word.lower() not in stopwords.words('english')]\n",
    "\n",
    "    return clean_words"
   ]
  },
  {
   "cell_type": "code",
   "execution_count": null,
   "metadata": {},
   "outputs": [],
   "source": [
    "df['joke'].apply(process_text)"
   ]
  },
  {
   "cell_type": "code",
   "execution_count": 20,
   "metadata": {},
   "outputs": [],
   "source": [
    "joke_train, joke_test, score_train, score_test = train_test_split(df['joke'], df['score'], test_size=0.2)"
   ]
  },
  {
   "cell_type": "code",
   "execution_count": 21,
   "metadata": {},
   "outputs": [],
   "source": [
    "pipeline = Pipeline([\n",
    "    ('bow', CountVectorizer(analyzer=process_text)), # converts strings to integer counts\n",
    "    ('tfidf', TfidfTransformer()), # converts integer counts to weighted TF-IDF scores\n",
    "    ('classifier', MultinomialNB()) # train on TF-IDF vectors with Naive Bayes classifier\n",
    "])"
   ]
  },
  {
   "cell_type": "code",
   "execution_count": 23,
   "metadata": {
    "collapsed": true
   },
   "outputs": [
    {
     "data": {
      "text/plain": [
       "Pipeline(memory=None,\n",
       "     steps=[('bow', CountVectorizer(analyzer=<function process_text at 0x7fb99637eae8>,\n",
       "        binary=False, decode_error='strict', dtype=<class 'numpy.int64'>,\n",
       "        encoding='utf-8', input='content', lowercase=True, max_df=1.0,\n",
       "        max_features=None, min_df=1, ngram_range=(1, 1), preprocessor=No...f=False, use_idf=True)), ('classifier', MultinomialNB(alpha=1.0, class_prior=None, fit_prior=True))])"
      ]
     },
     "execution_count": 23,
     "metadata": {},
     "output_type": "execute_result"
    }
   ],
   "source": [
    "pipeline.fit(joke_train, score_train)"
   ]
  },
  {
   "cell_type": "code",
   "execution_count": 24,
   "metadata": {},
   "outputs": [],
   "source": [
    "predictions = pipeline.predict(joke_test)"
   ]
  },
  {
   "cell_type": "code",
   "execution_count": 51,
   "metadata": {},
   "outputs": [],
   "source": [
    "count = 0\n",
    "score_test_vals = score_test.values\n",
    "for i in range(len(predictions)):\n",
    "    if (predictions[i] == score_test_vals[i]):\n",
    "        count += 1"
   ]
  },
  {
   "cell_type": "code",
   "execution_count": 54,
   "metadata": {},
   "outputs": [
    {
     "name": "stdout",
     "output_type": "stream",
     "text": [
      "Amount correct:  23458\n",
      "Fraction:  59.13880905561438\n"
     ]
    }
   ],
   "source": [
    "print(\"Amount correct: \", count)\n",
    "print(\"Fraction: \", count/len(predictions)*100)"
   ]
  }
 ],
 "metadata": {
  "kernelspec": {
   "display_name": "py36",
   "language": "python",
   "name": "py36"
  },
  "language_info": {
   "codemirror_mode": {
    "name": "ipython",
    "version": 3
   },
   "file_extension": ".py",
   "mimetype": "text/x-python",
   "name": "python",
   "nbconvert_exporter": "python",
   "pygments_lexer": "ipython3",
   "version": "3.6.8"
  }
 },
 "nbformat": 4,
 "nbformat_minor": 2
}
