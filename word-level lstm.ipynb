{
 "cells": [
  {
   "cell_type": "code",
   "execution_count": 1,
   "metadata": {},
   "outputs": [
    {
     "name": "stderr",
     "output_type": "stream",
     "text": [
      "Using TensorFlow backend.\n"
     ]
    }
   ],
   "source": [
    "import pandas as pd\n",
    "import numpy as np\n",
    "import json\n",
    "import string\n",
    "import matplotlib.pyplot as plt\n",
    "%matplotlib inline\n",
    "import tensorflow as tf\n",
    "import re\n",
    "import time\n",
    "\n",
    "from nltk.corpus import stopwords\n",
    "from keras.preprocessing.text import Tokenizer\n",
    "from keras.utils import to_categorical\n",
    "from keras.preprocessing.sequence import pad_sequences\n",
    "from sklearn.model_selection import train_test_split\n",
    "\n",
    "from keras.models import Sequential\n",
    "from keras.layers import Dense\n",
    "from keras.layers import LSTM\n",
    "from keras.layers import Embedding\n",
    "from keras import optimizers\n",
    "\n",
    "from keras.backend import clear_session\n",
    "from keras.models import model_from_json\n",
    "from keras.callbacks import ModelCheckpoint\n",
    "from keras.callbacks import TensorBoard\n",
    "from keras import backend as K\n",
    "\n",
    "config = tf.ConfigProto()\n",
    "config.gpu_options.allow_growth = True\n",
    "session = tf.Session(config=config)\n",
    "K.set_session(session)"
   ]
  },
  {
   "cell_type": "code",
   "execution_count": 2,
   "metadata": {},
   "outputs": [],
   "source": [
    "with open('jokes/joke-dataset/stupidstuff.json') as json_data:\n",
    "    ss_df = pd.DataFrame(json.load(json_data,))\n",
    "\n",
    "with open('jokes/joke-dataset/reddit_jokes.json') as json_data:\n",
    "    reddit_df = pd.DataFrame(json.load(json_data,))\n",
    "\n",
    "with open('jokes/joke-dataset/wocka.json') as json_data:\n",
    "    wocka_df = pd.DataFrame(json.load(json_data,))\n",
    "\n",
    "pd.set_option('display.max_colwidth', -1)\n",
    "    \n",
    "ss_df.drop(['category', 'id', 'rating'], axis=1, inplace=True)\n",
    "ss_df.rename(index=str, columns={'body': 'joke'}, inplace=True)\n",
    "\n",
    "reddit_df['joke'] = reddit_df['title'] + \" \" + reddit_df['body']\n",
    "reddit_df.drop(['body', 'id', 'title', 'score'], axis=1, inplace=True)\n",
    "\n",
    "wocka_df.drop(['category', 'id', 'title'], axis=1, inplace=True)\n",
    "wocka_df.rename(index=str, columns={'body': 'joke'}, inplace=True)"
   ]
  },
  {
   "cell_type": "code",
   "execution_count": 3,
   "metadata": {},
   "outputs": [],
   "source": [
    "df = pd.concat([ss_df, reddit_df, wocka_df])\n",
    "df = df.sample(frac=1).reset_index(drop=True)"
   ]
  },
  {
   "cell_type": "code",
   "execution_count": 4,
   "metadata": {},
   "outputs": [],
   "source": [
    "#num_words = [len(row['joke'].split()) for _, row in df.iterrows()]                \n",
    "#num_jokes = df['joke'].count()\n",
    "\n",
    "#print(\"number of samples: \", num_jokes)\n",
    "#print(\"median words: \", np.median(num_words))\n",
    "#print(\"average words: \", np.average(num_words))"
   ]
  },
  {
   "cell_type": "code",
   "execution_count": 5,
   "metadata": {},
   "outputs": [],
   "source": [
    "max_words_per_joke = 75\n",
    "\n",
    "data = [re.split(\"\\s\", joke) for joke in df['joke']]\n",
    "data = [item for item in data if len(item) < max_words_per_joke]"
   ]
  },
  {
   "cell_type": "code",
   "execution_count": 29,
   "metadata": {},
   "outputs": [],
   "source": [
    "TOP_K = 5000\n",
    "\n",
    "data = data[:50000]\n",
    "\n",
    "tokenizer = Tokenizer(num_words=TOP_K, oov_token=\"<unkown>\")\n",
    "tokenizer.fit_on_texts(data)\n",
    "\n",
    "unflattened_sequences = [tokenizer.texts_to_sequences(x) for x in data]\n",
    "\n",
    "sequences = []\n",
    "for sequence in unflattened_sequences:\n",
    "    flattened = [num for sublist in sequence for num in sublist]\n",
    "    sequences.append(flattened)"
   ]
  },
  {
   "cell_type": "code",
   "execution_count": 30,
   "metadata": {},
   "outputs": [
    {
     "name": "stdout",
     "output_type": "stream",
     "text": [
      "Max sequence length:  71\n",
      "Vocab size:  2934\n",
      "rnn units:  32\n",
      "embedding dimension:  128\n"
     ]
    }
   ],
   "source": [
    "maxlen = max([len(sequence) for sequence in sequences])\n",
    "vocab_size = len(set([elem for item in sequences for elem in item]))\n",
    "embedding_dim = 128\n",
    "rnn_units = 32\n",
    "print(\"Max sequence length: \", maxlen)\n",
    "print(\"Vocab size: \", vocab_size)\n",
    "print(\"rnn units: \", rnn_units)\n",
    "print(\"embedding dimension: \", embedding_dim)\n",
    "\n",
    "sequences = np.array(sequences)\n",
    "padded_sequences = pad_sequences(sequences, maxlen=maxlen, padding=\"pre\")\n",
    "\n",
    "X, y = padded_sequences[:,:-1], padded_sequences[:,-1]"
   ]
  },
  {
   "cell_type": "code",
   "execution_count": 31,
   "metadata": {},
   "outputs": [],
   "source": [
    "def build_model(vocab_size, embedding_dim, rnn_units, activation):\n",
    "    model = Sequential([\n",
    "        Embedding(vocab_size, embedding_dim, input_length=maxlen-1),\n",
    "        LSTM(rnn_units),\n",
    "        Dense(vocab_size, activation=activation)\n",
    "        ])\n",
    "    return model"
   ]
  },
  {
   "cell_type": "code",
   "execution_count": 32,
   "metadata": {},
   "outputs": [
    {
     "name": "stdout",
     "output_type": "stream",
     "text": [
      "_________________________________________________________________\n",
      "Layer (type)                 Output Shape              Param #   \n",
      "=================================================================\n",
      "embedding_3 (Embedding)      (None, 70, 128)           375552    \n",
      "_________________________________________________________________\n",
      "lstm_3 (LSTM)                (None, 32)                20608     \n",
      "_________________________________________________________________\n",
      "dense_3 (Dense)              (None, 2934)              96822     \n",
      "=================================================================\n",
      "Total params: 492,982\n",
      "Trainable params: 492,982\n",
      "Non-trainable params: 0\n",
      "_________________________________________________________________\n",
      "None\n"
     ]
    }
   ],
   "source": [
    "#try relu activation\n",
    "model = build_model(vocab_size, embedding_dim, rnn_units, \"relu\") \n",
    "print(model.summary())"
   ]
  },
  {
   "cell_type": "code",
   "execution_count": 33,
   "metadata": {},
   "outputs": [],
   "source": [
    "model.compile(loss='sparse_categorical_crossentropy', optimizer='adam', metrics=['accuracy'])"
   ]
  },
  {
   "cell_type": "code",
   "execution_count": 34,
   "metadata": {},
   "outputs": [],
   "source": [
    "#learning_rate = 0.001\n",
    "#clip_norm = 1.0\n",
    "#clip_value = 0.5\n",
    "#epsilon = 1e-04\n",
    "\n",
    "#adam = optimizers.Adam(lr=learning_rate, clipnorm=clip_norm, clipvalue=clip_value, epsilon=epsilon)\n",
    "#model.compile(loss='sparse_categorical_crossentropy', optimizer=adam, metrics=['accuracy'])"
   ]
  },
  {
   "cell_type": "code",
   "execution_count": 35,
   "metadata": {},
   "outputs": [],
   "source": [
    "#model.save_weights(\"weights/word-level-lstm-v1/weights.h5\")"
   ]
  },
  {
   "cell_type": "code",
   "execution_count": 36,
   "metadata": {},
   "outputs": [],
   "source": [
    "fpath = \"weights/word-level-lstm-v1/weights.hdf5\"\n",
    "checkpoint = ModelCheckpoint(fpath, monitor='val_acc', verbose=2, save_best_only=True, mode='max')\n",
    "tb = TensorBoard(log_dir=\"tensorboard-logs/{}\".format(\"lstm v1\"))\n",
    "callback_lst = [checkpoint, tb]"
   ]
  },
  {
   "cell_type": "code",
   "execution_count": 37,
   "metadata": {},
   "outputs": [
    {
     "name": "stdout",
     "output_type": "stream",
     "text": [
      "Train on 800 samples, validate on 200 samples\n",
      "Epoch 1/10\n",
      "800/800 [==============================] - 2s 2ms/step - loss: nan - acc: 0.0025 - val_loss: nan - val_acc: 0.0000e+00\n",
      "\n",
      "Epoch 00001: val_acc improved from -inf to 0.00000, saving model to weights/word-level-lstm-v1/weights.hdf5\n",
      "Epoch 2/10\n",
      "800/800 [==============================] - 1s 1ms/step - loss: nan - acc: 0.0025 - val_loss: nan - val_acc: 0.0000e+00\n",
      "\n",
      "Epoch 00002: val_acc did not improve from 0.00000\n",
      "Epoch 3/10\n",
      "800/800 [==============================] - 1s 1ms/step - loss: nan - acc: 0.0025 - val_loss: nan - val_acc: 0.0000e+00\n",
      "\n",
      "Epoch 00003: val_acc did not improve from 0.00000\n",
      "Epoch 4/10\n",
      "800/800 [==============================] - 1s 1ms/step - loss: nan - acc: 0.0025 - val_loss: nan - val_acc: 0.0000e+00\n",
      "\n",
      "Epoch 00004: val_acc did not improve from 0.00000\n",
      "Epoch 5/10\n",
      "800/800 [==============================] - 1s 1ms/step - loss: nan - acc: 0.0025 - val_loss: nan - val_acc: 0.0000e+00\n",
      "\n",
      "Epoch 00005: val_acc did not improve from 0.00000\n",
      "Epoch 6/10\n",
      "800/800 [==============================] - 1s 1ms/step - loss: nan - acc: 0.0025 - val_loss: nan - val_acc: 0.0000e+00\n",
      "\n",
      "Epoch 00006: val_acc did not improve from 0.00000\n",
      "Epoch 7/10\n",
      "800/800 [==============================] - 1s 1ms/step - loss: nan - acc: 0.0025 - val_loss: nan - val_acc: 0.0000e+00\n",
      "\n",
      "Epoch 00007: val_acc did not improve from 0.00000\n",
      "Epoch 8/10\n",
      "800/800 [==============================] - 1s 1ms/step - loss: nan - acc: 0.0025 - val_loss: nan - val_acc: 0.0000e+00\n",
      "\n",
      "Epoch 00008: val_acc did not improve from 0.00000\n",
      "Epoch 9/10\n",
      "800/800 [==============================] - 1s 1ms/step - loss: nan - acc: 0.0025 - val_loss: nan - val_acc: 0.0000e+00\n",
      "\n",
      "Epoch 00009: val_acc did not improve from 0.00000\n",
      "Epoch 10/10\n",
      "800/800 [==============================] - 1s 1ms/step - loss: nan - acc: 0.0025 - val_loss: nan - val_acc: 0.0000e+00\n",
      "\n",
      "Epoch 00010: val_acc did not improve from 0.00000\n"
     ]
    },
    {
     "data": {
      "text/plain": [
       "<keras.callbacks.History at 0x7f85d4692c88>"
      ]
     },
     "execution_count": 37,
     "metadata": {},
     "output_type": "execute_result"
    }
   ],
   "source": [
    "BATCH_SIZE = 64\n",
    "EPOCHS = 10\n",
    "\n",
    "model.fit(X, y, batch_size=BATCH_SIZE, validation_split=.2, epochs=EPOCHS, callbacks=callback_lst, verbose=1)"
   ]
  },
  {
   "cell_type": "code",
   "execution_count": 23,
   "metadata": {},
   "outputs": [],
   "source": [
    "def generate_text(seed_text, next_words, model, max_sequence_len):\n",
    "    for _ in range(next_words):\n",
    "        token_list = tokenizer.texts_to_sequences([seed_text])[0]\n",
    "        token_list = pad_sequences([token_list], maxlen=max_sequence_len-1, padding='pre')\n",
    "        predicted = model.predict_classes(token_list, verbose=1)\n",
    "        \n",
    "        output_word = \"\"\n",
    "        for word,index in tokenizer.word_index.items():\n",
    "            if index == predicted:\n",
    "                output_word = word\n",
    "                break\n",
    "        seed_text += \" \"+output_word\n",
    "    return seed_text.title()"
   ]
  },
  {
   "cell_type": "code",
   "execution_count": 28,
   "metadata": {},
   "outputs": [
    {
     "name": "stdout",
     "output_type": "stream",
     "text": [
      "1/1 [==============================] - 0s 31ms/step\n",
      "1/1 [==============================] - 0s 32ms/step\n",
      "1/1 [==============================] - 0s 25ms/step\n",
      "1/1 [==============================] - 0s 25ms/step\n",
      "1/1 [==============================] - 0s 31ms/step\n",
      "I Was Shocked     \n"
     ]
    }
   ],
   "source": [
    "print (generate_text(\"I was shocked\", 5, model, maxlen))"
   ]
  },
  {
   "cell_type": "code",
   "execution_count": null,
   "metadata": {},
   "outputs": [],
   "source": []
  }
 ],
 "metadata": {
  "kernelspec": {
   "display_name": "py36",
   "language": "python",
   "name": "py36"
  },
  "language_info": {
   "codemirror_mode": {
    "name": "ipython",
    "version": 3
   },
   "file_extension": ".py",
   "mimetype": "text/x-python",
   "name": "python",
   "nbconvert_exporter": "python",
   "pygments_lexer": "ipython3",
   "version": "3.6.8"
  }
 },
 "nbformat": 4,
 "nbformat_minor": 2
}
