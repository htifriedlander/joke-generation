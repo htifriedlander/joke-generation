{
 "cells": [
  {
   "cell_type": "code",
   "execution_count": 2,
   "metadata": {},
   "outputs": [
    {
     "name": "stderr",
     "output_type": "stream",
     "text": [
      "Using TensorFlow backend.\n"
     ]
    }
   ],
   "source": [
    "import pandas as pd\n",
    "import numpy as np\n",
    "import json\n",
    "import string\n",
    "import matplotlib.pyplot as plt\n",
    "%matplotlib inline\n",
    "import tensorflow as tf\n",
    "import os\n",
    "import time\n",
    "import random\n",
    "import sys\n",
    "import io\n",
    "\n",
    "from nltk.corpus import stopwords\n",
    "from keras.callbacks import LambdaCallback\n",
    "from keras.models import Sequential\n",
    "from keras.layers import Dense\n",
    "from keras.layers import LSTM\n",
    "from keras.optimizers import RMSprop"
   ]
  },
  {
   "cell_type": "code",
   "execution_count": 3,
   "metadata": {},
   "outputs": [],
   "source": [
    "with open('jokes/joke-dataset/stupidstuff.json') as json_data:\n",
    "    ss_df = pd.DataFrame(json.load(json_data,))\n",
    "\n",
    "with open('jokes/joke-dataset/reddit_jokes.json') as json_data:\n",
    "    reddit_df = pd.DataFrame(json.load(json_data,))\n",
    "\n",
    "with open('jokes/joke-dataset/wocka.json') as json_data:\n",
    "    wocka_df = pd.DataFrame(json.load(json_data,))\n",
    "\n",
    "pd.set_option('display.max_colwidth', -1)\n",
    "    \n",
    "ss_df.drop(['category', 'id'], axis=1, inplace=True)\n",
    "ss_df.rename(index=str, columns={'body': 'joke', 'rating': 'score'}, inplace=True)\n",
    "\n",
    "reddit_df['joke'] = reddit_df['title'] + \" \" + reddit_df['body']\n",
    "reddit_df.drop(['body', 'id', 'title'], axis=1, inplace=True)\n",
    "\n",
    "wocka_df.drop(['category', 'id', 'title'], axis=1, inplace=True)\n",
    "wocka_df.rename(index=str, columns={'body': 'joke'}, inplace=True)"
   ]
  },
  {
   "cell_type": "code",
   "execution_count": 4,
   "metadata": {},
   "outputs": [
    {
     "name": "stderr",
     "output_type": "stream",
     "text": [
      "/home/dl-one/anaconda3/envs/py36/lib/python3.6/site-packages/ipykernel_launcher.py:1: FutureWarning: Sorting because non-concatenation axis is not aligned. A future version\n",
      "of pandas will change to not sort by default.\n",
      "\n",
      "To accept the future behavior, pass 'sort=False'.\n",
      "\n",
      "To retain the current behavior and silence the warning, pass 'sort=True'.\n",
      "\n",
      "  \"\"\"Entry point for launching an IPython kernel.\n"
     ]
    }
   ],
   "source": [
    "df = pd.concat([ss_df, reddit_df])\n",
    "df = df.sample(frac=1).reset_index(drop=True)"
   ]
  },
  {
   "cell_type": "code",
   "execution_count": 5,
   "metadata": {},
   "outputs": [
    {
     "data": {
      "text/html": [
       "<div>\n",
       "<style scoped>\n",
       "    .dataframe tbody tr th:only-of-type {\n",
       "        vertical-align: middle;\n",
       "    }\n",
       "\n",
       "    .dataframe tbody tr th {\n",
       "        vertical-align: top;\n",
       "    }\n",
       "\n",
       "    .dataframe thead th {\n",
       "        text-align: right;\n",
       "    }\n",
       "</style>\n",
       "<table border=\"1\" class=\"dataframe\">\n",
       "  <thead>\n",
       "    <tr style=\"text-align: right;\">\n",
       "      <th></th>\n",
       "      <th>joke</th>\n",
       "      <th>score</th>\n",
       "    </tr>\n",
       "  </thead>\n",
       "  <tbody>\n",
       "    <tr>\n",
       "      <th>0</th>\n",
       "      <td>Living next to a golf course A little old lady was walking down the street dragging two large plastic garbage bags behind her.  One of the bags was ripped and every once in awhile a $20 bill fell out onto the sidewalk.\\n\\nNoticing this, a policeman stopped her, and said, \"Ma'am, there are $20 bills falling out of that bag.\"\\n\\n\"Oh, really? Darn it!\" said the little old lady. \"I'd better go back and see if I can find them. Thanks for telling me, Officer.\"\\n\\n\"Well, now, not so fast,\" said the cop. \" Where did you get all that money? You didn't steal it, did you?\"\\n\\n\"Oh, no, no\", said the old lady. \"You see, my back yard is right next\\nto a golf course. A lot of golfers come and pee through a knot hole in\\nmy fence, right into my flower garden. It used to really tick me off.\\nKills the flowers, you know. Then I thought, 'why not make the best of\\nit?' So, now, I stand behind the fence by the knot hole, real quiet,\\nwith my hedge clippers. Every time some guy sticks his thing through my fence, I surprise him, grab hold of it and say, 'O.K., buddy! Give me $20 or off it comes!'\"\\n\\n\"Well, that seems only fair,\" said the cop, laughing .\"OK. Good luck! Oh, by the way, what's in the other bag?\" he asked.\\n\\nShe replied, \"Not everybody pays.\"</td>\n",
       "      <td>140.0</td>\n",
       "    </tr>\n",
       "    <tr>\n",
       "      <th>1</th>\n",
       "      <td>What do Mathematicians use to fry their food? Euler butter.</td>\n",
       "      <td>0.0</td>\n",
       "    </tr>\n",
       "    <tr>\n",
       "      <th>2</th>\n",
       "      <td>So one man walks into a bar and the other one ducks.</td>\n",
       "      <td>0.0</td>\n",
       "    </tr>\n",
       "    <tr>\n",
       "      <th>3</th>\n",
       "      <td>What's the difference between a tire and 365 used condoms? Ones a goodyear and the others a great year.</td>\n",
       "      <td>12.0</td>\n",
       "    </tr>\n",
       "    <tr>\n",
       "      <th>4</th>\n",
       "      <td>What's the difference between a government bond and a man? *The bond matures.*</td>\n",
       "      <td>0.0</td>\n",
       "    </tr>\n",
       "  </tbody>\n",
       "</table>\n",
       "</div>"
      ],
      "text/plain": [
       "                                                                                                                                                                                                                                                                                                                                                                                                                                                                                                                                                                                                                                                                                                                                                                                                                                                                                                                                                                                                                                                                                                                                                                                                                                                                                                      joke  \\\n",
       "0  Living next to a golf course A little old lady was walking down the street dragging two large plastic garbage bags behind her.  One of the bags was ripped and every once in awhile a $20 bill fell out onto the sidewalk.\\n\\nNoticing this, a policeman stopped her, and said, \"Ma'am, there are $20 bills falling out of that bag.\"\\n\\n\"Oh, really? Darn it!\" said the little old lady. \"I'd better go back and see if I can find them. Thanks for telling me, Officer.\"\\n\\n\"Well, now, not so fast,\" said the cop. \" Where did you get all that money? You didn't steal it, did you?\"\\n\\n\"Oh, no, no\", said the old lady. \"You see, my back yard is right next\\nto a golf course. A lot of golfers come and pee through a knot hole in\\nmy fence, right into my flower garden. It used to really tick me off.\\nKills the flowers, you know. Then I thought, 'why not make the best of\\nit?' So, now, I stand behind the fence by the knot hole, real quiet,\\nwith my hedge clippers. Every time some guy sticks his thing through my fence, I surprise him, grab hold of it and say, 'O.K., buddy! Give me $20 or off it comes!'\"\\n\\n\"Well, that seems only fair,\" said the cop, laughing .\"OK. Good luck! Oh, by the way, what's in the other bag?\" he asked.\\n\\nShe replied, \"Not everybody pays.\"   \n",
       "1  What do Mathematicians use to fry their food? Euler butter.                                                                                                                                                                                                                                                                                                                                                                                                                                                                                                                                                                                                                                                                                                                                                                                                                                                                                                                                                                                                                                                                                                                                                                                                                                               \n",
       "2  So one man walks into a bar and the other one ducks.                                                                                                                                                                                                                                                                                                                                                                                                                                                                                                                                                                                                                                                                                                                                                                                                                                                                                                                                                                                                                                                                                                                                                                                                                                                      \n",
       "3  What's the difference between a tire and 365 used condoms? Ones a goodyear and the others a great year.                                                                                                                                                                                                                                                                                                                                                                                                                                                                                                                                                                                                                                                                                                                                                                                                                                                                                                                                                                                                                                                                                                                                                                                                   \n",
       "4  What's the difference between a government bond and a man? *The bond matures.*                                                                                                                                                                                                                                                                                                                                                                                                                                                                                                                                                                                                                                                                                                                                                                                                                                                                                                                                                                                                                                                                                                                                                                                                                            \n",
       "\n",
       "   score  \n",
       "0  140.0  \n",
       "1  0.0    \n",
       "2  0.0    \n",
       "3  12.0   \n",
       "4  0.0    "
      ]
     },
     "execution_count": 5,
     "metadata": {},
     "output_type": "execute_result"
    }
   ],
   "source": [
    "df.head()"
   ]
  },
  {
   "cell_type": "code",
   "execution_count": 4,
   "metadata": {},
   "outputs": [
    {
     "name": "stdout",
     "output_type": "stream",
     "text": [
      "number of samples:  198326\n",
      "median words:  18.0\n",
      "average words:  47.74331151740064\n",
      "chars in longest joke:  39743\n"
     ]
    }
   ],
   "source": [
    "num_words = [len(row['joke'].split()) for _, row in df.iterrows()]                \n",
    "max_chars_per_joke = max([len(joke) for joke in df['joke']])\n",
    "num_jokes = df['joke'].count()\n",
    "\n",
    "print(\"number of samples: \", num_jokes)\n",
    "print(\"median words: \", np.median(num_words))\n",
    "print(\"average words: \", np.average(num_words))\n",
    "print(\"chars in longest joke: \", max_chars_per_joke)"
   ]
  },
  {
   "cell_type": "code",
   "execution_count": 6,
   "metadata": {},
   "outputs": [],
   "source": [
    "printable = set(string.printable)\n",
    "data = ''\n",
    "joke_list = []\n",
    "for joke in df['joke']:\n",
    "    filtered_joke = filter(lambda x: x in printable, joke)\n",
    "    temp_joke = \"\"\n",
    "    for c in filtered_joke:\n",
    "        data += c\n",
    "        temp_joke += c\n",
    "    joke_list.append(temp_joke)\n",
    "        \n",
    "vocab = sorted(set(data))\n",
    "vocab_size = len(vocab)\n",
    "\n",
    "# Creating a mapping from unique characters to indices\n",
    "char2idx = {c:i for i, c in enumerate(vocab)}\n",
    "idx2char = {i:c for i, c in enumerate(vocab)}"
   ]
  },
  {
   "cell_type": "code",
   "execution_count": 7,
   "metadata": {},
   "outputs": [
    {
     "name": "stdout",
     "output_type": "stream",
     "text": [
      "{\n",
      "  '\\t':   0,\n",
      "  '\\n':   1,\n",
      "  '\\r':   2,\n",
      "  ' ' :   3,\n",
      "  '!' :   4,\n",
      "  '\"' :   5,\n",
      "  '#' :   6,\n",
      "  '$' :   7,\n",
      "  '%' :   8,\n",
      "  '&' :   9,\n",
      "  \"'\" :  10,\n",
      "  '(' :  11,\n",
      "  ')' :  12,\n",
      "  '*' :  13,\n",
      "  '+' :  14,\n",
      "  ',' :  15,\n",
      "  '-' :  16,\n",
      "  '.' :  17,\n",
      "  '/' :  18,\n",
      "  '0' :  19,\n",
      "  ...\n",
      "}\n"
     ]
    }
   ],
   "source": [
    "#set of characters. change range to see n unique chars\n",
    "print('{')\n",
    "for char, _ in zip(char2idx, range(20)):\n",
    "    print('  {:4s}: {:3d},'.format(repr(char), char2idx[char]))\n",
    "print('  ...\\n}')"
   ]
  },
  {
   "cell_type": "code",
   "execution_count": 8,
   "metadata": {},
   "outputs": [
    {
     "name": "stdout",
     "output_type": "stream",
     "text": [
      "nb sequences: 1016755\n"
     ]
    }
   ],
   "source": [
    "maxlen = 100\n",
    "step = 1\n",
    "seqs = []\n",
    "next_chars = []\n",
    "for i in range(0, (len(data)//50) - maxlen, step): #only 1 million for now\n",
    "    seqs.append(data[i: i + maxlen])\n",
    "    next_chars.append(data[i + maxlen])\n",
    "print('nb sequences:', len(seqs))"
   ]
  },
  {
   "cell_type": "code",
   "execution_count": 10,
   "metadata": {},
   "outputs": [
    {
     "data": {
      "text/plain": [
       "'iving next to a golf course A little old lady was walking down the street dragging two large plastic'"
      ]
     },
     "execution_count": 10,
     "metadata": {},
     "output_type": "execute_result"
    }
   ],
   "source": [
    "seqs[1]"
   ]
  },
  {
   "cell_type": "code",
   "execution_count": 11,
   "metadata": {},
   "outputs": [],
   "source": [
    "seqs_int = []\n",
    "for seq in seqs[:1000000]: \n",
    "    temp = []\n",
    "    for c in seq:\n",
    "        temp.append(char2idx[c])\n",
    "    seqs_int.append(temp)"
   ]
  },
  {
   "cell_type": "code",
   "execution_count": 12,
   "metadata": {},
   "outputs": [
    {
     "data": {
      "text/plain": [
       "[47,\n",
       " 76,\n",
       " 89,\n",
       " 76,\n",
       " 81,\n",
       " 74,\n",
       " 3,\n",
       " 81,\n",
       " 72,\n",
       " 91,\n",
       " 87,\n",
       " 3,\n",
       " 87,\n",
       " 82,\n",
       " 3,\n",
       " 68,\n",
       " 3,\n",
       " 74,\n",
       " 82,\n",
       " 79,\n",
       " 73,\n",
       " 3,\n",
       " 70,\n",
       " 82,\n",
       " 88,\n",
       " 85,\n",
       " 86,\n",
       " 72,\n",
       " 3,\n",
       " 36,\n",
       " 3,\n",
       " 79,\n",
       " 76,\n",
       " 87,\n",
       " 87,\n",
       " 79,\n",
       " 72,\n",
       " 3,\n",
       " 82,\n",
       " 79,\n",
       " 71,\n",
       " 3,\n",
       " 79,\n",
       " 68,\n",
       " 71,\n",
       " 92,\n",
       " 3,\n",
       " 90,\n",
       " 68,\n",
       " 86,\n",
       " 3,\n",
       " 90,\n",
       " 68,\n",
       " 79,\n",
       " 78,\n",
       " 76,\n",
       " 81,\n",
       " 74,\n",
       " 3,\n",
       " 71,\n",
       " 82,\n",
       " 90,\n",
       " 81,\n",
       " 3,\n",
       " 87,\n",
       " 75,\n",
       " 72,\n",
       " 3,\n",
       " 86,\n",
       " 87,\n",
       " 85,\n",
       " 72,\n",
       " 72,\n",
       " 87,\n",
       " 3,\n",
       " 71,\n",
       " 85,\n",
       " 68,\n",
       " 74,\n",
       " 74,\n",
       " 76,\n",
       " 81,\n",
       " 74,\n",
       " 3,\n",
       " 87,\n",
       " 90,\n",
       " 82,\n",
       " 3,\n",
       " 79,\n",
       " 68,\n",
       " 85,\n",
       " 74,\n",
       " 72,\n",
       " 3,\n",
       " 83,\n",
       " 79,\n",
       " 68,\n",
       " 86,\n",
       " 87,\n",
       " 76]"
      ]
     },
     "execution_count": 12,
     "metadata": {},
     "output_type": "execute_result"
    }
   ],
   "source": [
    "seqs_int[0]"
   ]
  },
  {
   "cell_type": "code",
   "execution_count": 8,
   "metadata": {
    "scrolled": true
   },
   "outputs": [
    {
     "name": "stdout",
     "output_type": "stream",
     "text": [
      "Vectorization...\n"
     ]
    }
   ],
   "source": [
    "print('Vectorization...')\n",
    "#for every sequence, length of maxlen, length of vocab\n",
    "#boolean matrix where True if char appears in sequence, false otherwise\n",
    "x = np.zeros((len(seqs), maxlen, len(vocab)), dtype=np.bool)\n",
    "#boolean matrix, label corresponding to appropriate x input\n",
    "y = np.zeros((len(seqs), len(vocab)), dtype=np.bool)\n",
    "for i, seq in enumerate(seqs):\n",
    "    for t, char in enumerate(seq):\n",
    "        x[i, t, char2idx[char]] = 1\n",
    "    y[i, char2idx[next_chars[i]]] = 1"
   ]
  },
  {
   "cell_type": "code",
   "execution_count": 9,
   "metadata": {},
   "outputs": [
    {
     "name": "stdout",
     "output_type": "stream",
     "text": [
      "Build model...\n",
      "WARNING:tensorflow:From /home/dl-one/anaconda3/envs/py36/lib/python3.6/site-packages/tensorflow/python/framework/op_def_library.py:263: colocate_with (from tensorflow.python.framework.ops) is deprecated and will be removed in a future version.\n",
      "Instructions for updating:\n",
      "Colocations handled automatically by placer.\n"
     ]
    }
   ],
   "source": [
    "# build the model: a single LSTM\n",
    "print('Build model...')\n",
    "model = Sequential()\n",
    "model.add(LSTM(128, input_shape=(maxlen, len(vocab))))\n",
    "model.add(Dense(len(vocab), activation='softmax'))\n",
    "\n",
    "optimizer = RMSprop(lr=0.01)\n",
    "model.compile(loss='categorical_crossentropy', optimizer=optimizer)"
   ]
  },
  {
   "cell_type": "code",
   "execution_count": null,
   "metadata": {},
   "outputs": [],
   "source": [
    "def sample(preds, temperature=1.0):\n",
    "    # helper function to sample an index from a probability array\n",
    "    preds = np.asarray(preds).astype('float64')\n",
    "    preds = np.log(preds) / temperature\n",
    "    exp_preds = np.exp(preds)\n",
    "    preds = exp_preds / np.sum(exp_preds)\n",
    "    probas = np.random.multinomial(1, preds, 1)\n",
    "    return np.argmax(probas)\n",
    "\n",
    "\n",
    "def on_epoch_end(epoch, _):\n",
    "    # Function invoked at end of each epoch. Prints generated text.\n",
    "    print()\n",
    "    print('----- Generating text after Epoch: %d' % epoch)\n",
    "\n",
    "    start_index = random.randint(0, len(data) - maxlen - 1)\n",
    "    for diversity in [0.2, 0.5, 1.0, 1.2]:\n",
    "        print('----- diversity:', diversity)\n",
    "\n",
    "        generated = ''\n",
    "        sentence = data[start_index: start_index + maxlen]\n",
    "        generated += sentence\n",
    "        print('----- Generating with seed: \"' + sentence + '\"')\n",
    "        sys.stdout.write(generated)\n",
    "\n",
    "        for i in range(400):\n",
    "            x_pred = np.zeros((1, maxlen, len(vocab)))\n",
    "            for t, char in enumerate(sentence):\n",
    "                x_pred[0, t, char2idx[char]] = 1.\n",
    "\n",
    "            preds = model.predict(x_pred, verbose=0)[0]\n",
    "            next_index = sample(preds, diversity)\n",
    "            next_char = idx2char[next_index]\n",
    "\n",
    "            generated += next_char\n",
    "            sentence = sentence[1:] + next_char\n",
    "\n",
    "            sys.stdout.write(next_char)\n",
    "            sys.stdout.flush()\n",
    "        print()"
   ]
  },
  {
   "cell_type": "code",
   "execution_count": null,
   "metadata": {},
   "outputs": [],
   "source": [
    "print_callback = LambdaCallback(on_epoch_end=on_epoch_end)\n",
    "\n",
    "model.fit(x, y,\n",
    "          batch_size=128,\n",
    "          epochs=60,\n",
    "          callbacks=[print_callback])"
   ]
  },
  {
   "cell_type": "code",
   "execution_count": null,
   "metadata": {},
   "outputs": [],
   "source": []
  }
 ],
 "metadata": {
  "kernelspec": {
   "display_name": "py36",
   "language": "python",
   "name": "py36"
  },
  "language_info": {
   "codemirror_mode": {
    "name": "ipython",
    "version": 3
   },
   "file_extension": ".py",
   "mimetype": "text/x-python",
   "name": "python",
   "nbconvert_exporter": "python",
   "pygments_lexer": "ipython3",
   "version": "3.6.8"
  }
 },
 "nbformat": 4,
 "nbformat_minor": 2
}
